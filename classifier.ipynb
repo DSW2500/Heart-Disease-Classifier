{
  "nbformat": 4,
  "nbformat_minor": 0,
  "metadata": {
    "colab": {
      "name": "ANN_Assignment.ipynb",
      "provenance": [],
      "collapsed_sections": []
    },
    "kernelspec": {
      "name": "python3",
      "display_name": "Python 3"
    },
    "accelerator": "GPU"
  },
  "cells": [
    {
      "cell_type": "code",
      "metadata": {
        "id": "XoeR3AGbbFqO",
        "colab_type": "code",
        "colab": {}
      },
      "source": [
        "import pandas as pd\n",
        "import numpy as np"
      ],
      "execution_count": null,
      "outputs": []
    },
    {
      "cell_type": "code",
      "metadata": {
        "id": "rWfZhxLZcCbV",
        "colab_type": "code",
        "colab": {}
      },
      "source": [
        "data = pd.read_csv(\"heart.csv\")"
      ],
      "execution_count": null,
      "outputs": []
    },
    {
      "cell_type": "code",
      "metadata": {
        "id": "uDYchiNlfSH_",
        "colab_type": "code",
        "colab": {
          "base_uri": "https://localhost:8080/",
          "height": 153
        },
        "outputId": "51bcd2ec-207f-4595-f432-bf97ae8897b5"
      },
      "source": [
        "print(data.head())\n"
      ],
      "execution_count": null,
      "outputs": [
        {
          "output_type": "stream",
          "text": [
            "   age  sex  cp  trestbps  chol  fbs  ...  exang  oldpeak  slope  ca  thal  target\n",
            "0   63    1   3       145   233    1  ...      0      2.3      0   0     1       1\n",
            "1   37    1   2       130   250    0  ...      0      3.5      0   0     2       1\n",
            "2   41    0   1       130   204    0  ...      0      1.4      2   0     2       1\n",
            "3   56    1   1       120   236    0  ...      0      0.8      2   0     2       1\n",
            "4   57    0   0       120   354    0  ...      1      0.6      2   0     2       1\n",
            "\n",
            "[5 rows x 14 columns]\n"
          ],
          "name": "stdout"
        }
      ]
    },
    {
      "cell_type": "code",
      "metadata": {
        "id": "aurIWghPhOfe",
        "colab_type": "code",
        "colab": {
          "base_uri": "https://localhost:8080/",
          "height": 272
        },
        "outputId": "e0fddfd6-3d1e-4441-8cf3-b971ea896309"
      },
      "source": [
        "data = data.apply(pd.to_numeric)\n",
        "data.dtypes\n"
      ],
      "execution_count": null,
      "outputs": [
        {
          "output_type": "execute_result",
          "data": {
            "text/plain": [
              "age           int64\n",
              "sex           int64\n",
              "cp            int64\n",
              "trestbps      int64\n",
              "chol          int64\n",
              "fbs           int64\n",
              "restecg       int64\n",
              "thalach       int64\n",
              "exang         int64\n",
              "oldpeak     float64\n",
              "slope         int64\n",
              "ca            int64\n",
              "thal          int64\n",
              "target        int64\n",
              "dtype: object"
            ]
          },
          "metadata": {
            "tags": []
          },
          "execution_count": 31
        }
      ]
    },
    {
      "cell_type": "code",
      "metadata": {
        "id": "aqcAjfrniEtV",
        "colab_type": "code",
        "colab": {}
      },
      "source": [
        "X =np.array(data.drop([\"target\"],axis=1))\n",
        "y = np.array(data[\"target\"])\n"
      ],
      "execution_count": null,
      "outputs": []
    },
    {
      "cell_type": "code",
      "metadata": {
        "id": "zOxOwYehiOjP",
        "colab_type": "code",
        "colab": {}
      },
      "source": [
        "from sklearn.model_selection import train_test_split\n",
        "X_train, X_test, y_train, y_test = train_test_split(X, y, test_size=0.33, random_state=45)\n",
        "from sklearn.preprocessing import StandardScaler\n",
        "scaler = StandardScaler().fit(X_train)\n",
        "\n",
        "X_train = scaler.transform(X_train)\n",
        "\n",
        "X_test = scaler.transform(X_test)"
      ],
      "execution_count": null,
      "outputs": []
    },
    {
      "cell_type": "code",
      "metadata": {
        "id": "RK14kzqEkG0Y",
        "colab_type": "code",
        "colab": {}
      },
      "source": [
        "from keras.utils.np_utils import to_categorical\n",
        "\n",
        "Y_train = to_categorical(y_train, num_classes=None)\n",
        "Y_test = to_categorical(y_test, num_classes=None)"
      ],
      "execution_count": null,
      "outputs": []
    },
    {
      "cell_type": "code",
      "metadata": {
        "id": "40Q2ZApEkH57",
        "colab_type": "code",
        "colab": {
          "base_uri": "https://localhost:8080/",
          "height": 68
        },
        "outputId": "25b4828f-2a74-48ba-dfa1-1607e2c5a4e3"
      },
      "source": [
        "X_train[0]"
      ],
      "execution_count": null,
      "outputs": [
        {
          "output_type": "execute_result",
          "data": {
            "text/plain": [
              "array([ 1.24659003, -1.42472831,  1.01901457,  0.8191292 ,  0.60374615,\n",
              "       -0.44853476, -0.95972915,  0.18008212, -0.72547625, -0.91101584,\n",
              "       -0.57790793,  0.23569702, -0.45592706])"
            ]
          },
          "metadata": {
            "tags": []
          },
          "execution_count": 35
        }
      ]
    },
    {
      "cell_type": "code",
      "metadata": {
        "id": "XzfASDFmljWZ",
        "colab_type": "code",
        "colab": {
          "base_uri": "https://localhost:8080/",
          "height": 340
        },
        "outputId": "4ca427a7-9453-4ab6-99ee-a8404e3713a7"
      },
      "source": [
        "from keras.models import Sequential\n",
        "from keras.layers import Dense\n",
        "from keras.optimizers import Adam\n",
        "from keras.layers import Dropout\n",
        "from keras import regularizers\n",
        "\n",
        "# define a function to build the keras model\n",
        "def create_model():\n",
        "    # create model\n",
        "    model = Sequential()\n",
        "    model.add(Dense(16, input_dim=13, kernel_initializer='normal', kernel_regularizer=regularizers.l2(0.001), activation='relu'))\n",
        "    model.add(Dropout(0.25))\n",
        "    model.add(Dense(8, kernel_initializer='normal', kernel_regularizer=regularizers.l2(0.001), activation='relu'))\n",
        "    model.add(Dropout(0.25))\n",
        "    \n",
        "    model.add(Dense(2, activation='softmax'))\n",
        "    \n",
        "    # compile model\n",
        "    adam = Adam(lr=0.01)\n",
        "    model.compile(loss='categorical_crossentropy', optimizer='rmsprop', metrics=['accuracy'])\n",
        "    return model\n",
        "\n",
        "model = create_model()\n",
        "\n",
        "print(model.summary())"
      ],
      "execution_count": null,
      "outputs": [
        {
          "output_type": "stream",
          "text": [
            "Model: \"sequential_3\"\n",
            "_________________________________________________________________\n",
            "Layer (type)                 Output Shape              Param #   \n",
            "=================================================================\n",
            "dense_12 (Dense)             (None, 16)                224       \n",
            "_________________________________________________________________\n",
            "dropout_9 (Dropout)          (None, 16)                0         \n",
            "_________________________________________________________________\n",
            "dense_13 (Dense)             (None, 8)                 136       \n",
            "_________________________________________________________________\n",
            "dropout_10 (Dropout)         (None, 8)                 0         \n",
            "_________________________________________________________________\n",
            "dense_14 (Dense)             (None, 2)                 18        \n",
            "=================================================================\n",
            "Total params: 378\n",
            "Trainable params: 378\n",
            "Non-trainable params: 0\n",
            "_________________________________________________________________\n",
            "None\n"
          ],
          "name": "stdout"
        }
      ]
    },
    {
      "cell_type": "code",
      "metadata": {
        "id": "VQ_Y5R_znhls",
        "colab_type": "code",
        "colab": {
          "base_uri": "https://localhost:8080/",
          "height": 1000
        },
        "outputId": "1216136b-0f52-4041-fdae-2d311b5600c9"
      },
      "source": [
        "history=model.fit(X_train, Y_train, validation_data=(X_test, Y_test),epochs=35, batch_size=10)"
      ],
      "execution_count": null,
      "outputs": [
        {
          "output_type": "stream",
          "text": [
            "Epoch 1/35\n",
            "21/21 [==============================] - 0s 10ms/step - loss: 0.6754 - accuracy: 0.7094 - val_loss: 0.6646 - val_accuracy: 0.7400\n",
            "Epoch 2/35\n",
            "21/21 [==============================] - 0s 4ms/step - loss: 0.6367 - accuracy: 0.7882 - val_loss: 0.6265 - val_accuracy: 0.7700\n",
            "Epoch 3/35\n",
            "21/21 [==============================] - 0s 5ms/step - loss: 0.5950 - accuracy: 0.8128 - val_loss: 0.5850 - val_accuracy: 0.8100\n",
            "Epoch 4/35\n",
            "21/21 [==============================] - 0s 5ms/step - loss: 0.5373 - accuracy: 0.8325 - val_loss: 0.5424 - val_accuracy: 0.8400\n",
            "Epoch 5/35\n",
            "21/21 [==============================] - 0s 4ms/step - loss: 0.4967 - accuracy: 0.8325 - val_loss: 0.5062 - val_accuracy: 0.8500\n",
            "Epoch 6/35\n",
            "21/21 [==============================] - 0s 4ms/step - loss: 0.4565 - accuracy: 0.8473 - val_loss: 0.4774 - val_accuracy: 0.8500\n",
            "Epoch 7/35\n",
            "21/21 [==============================] - 0s 4ms/step - loss: 0.4449 - accuracy: 0.8424 - val_loss: 0.4540 - val_accuracy: 0.8500\n",
            "Epoch 8/35\n",
            "21/21 [==============================] - 0s 4ms/step - loss: 0.4138 - accuracy: 0.8424 - val_loss: 0.4410 - val_accuracy: 0.8500\n",
            "Epoch 9/35\n",
            "21/21 [==============================] - 0s 4ms/step - loss: 0.4001 - accuracy: 0.8424 - val_loss: 0.4281 - val_accuracy: 0.8500\n",
            "Epoch 10/35\n",
            "21/21 [==============================] - 0s 4ms/step - loss: 0.3926 - accuracy: 0.8473 - val_loss: 0.4161 - val_accuracy: 0.8500\n",
            "Epoch 11/35\n",
            "21/21 [==============================] - 0s 4ms/step - loss: 0.3709 - accuracy: 0.8571 - val_loss: 0.4115 - val_accuracy: 0.8400\n",
            "Epoch 12/35\n",
            "21/21 [==============================] - 0s 4ms/step - loss: 0.3667 - accuracy: 0.8621 - val_loss: 0.4101 - val_accuracy: 0.8500\n",
            "Epoch 13/35\n",
            "21/21 [==============================] - 0s 5ms/step - loss: 0.3537 - accuracy: 0.8571 - val_loss: 0.4053 - val_accuracy: 0.8500\n",
            "Epoch 14/35\n",
            "21/21 [==============================] - 0s 5ms/step - loss: 0.3501 - accuracy: 0.8621 - val_loss: 0.4038 - val_accuracy: 0.8600\n",
            "Epoch 15/35\n",
            "21/21 [==============================] - 0s 4ms/step - loss: 0.3584 - accuracy: 0.8768 - val_loss: 0.4008 - val_accuracy: 0.8600\n",
            "Epoch 16/35\n",
            "21/21 [==============================] - 0s 4ms/step - loss: 0.3440 - accuracy: 0.8621 - val_loss: 0.4020 - val_accuracy: 0.8400\n",
            "Epoch 17/35\n",
            "21/21 [==============================] - 0s 4ms/step - loss: 0.3367 - accuracy: 0.8473 - val_loss: 0.4003 - val_accuracy: 0.8300\n",
            "Epoch 18/35\n",
            "21/21 [==============================] - 0s 4ms/step - loss: 0.3543 - accuracy: 0.8670 - val_loss: 0.3968 - val_accuracy: 0.8300\n",
            "Epoch 19/35\n",
            "21/21 [==============================] - 0s 5ms/step - loss: 0.3559 - accuracy: 0.8719 - val_loss: 0.3985 - val_accuracy: 0.8300\n",
            "Epoch 20/35\n",
            "21/21 [==============================] - 0s 4ms/step - loss: 0.2935 - accuracy: 0.8818 - val_loss: 0.3998 - val_accuracy: 0.8500\n",
            "Epoch 21/35\n",
            "21/21 [==============================] - 0s 4ms/step - loss: 0.3482 - accuracy: 0.8867 - val_loss: 0.4008 - val_accuracy: 0.8500\n",
            "Epoch 22/35\n",
            "21/21 [==============================] - 0s 4ms/step - loss: 0.3155 - accuracy: 0.8719 - val_loss: 0.4022 - val_accuracy: 0.8500\n",
            "Epoch 23/35\n",
            "21/21 [==============================] - 0s 4ms/step - loss: 0.3249 - accuracy: 0.8916 - val_loss: 0.4048 - val_accuracy: 0.8500\n",
            "Epoch 24/35\n",
            "21/21 [==============================] - 0s 5ms/step - loss: 0.3543 - accuracy: 0.8867 - val_loss: 0.4079 - val_accuracy: 0.8500\n",
            "Epoch 25/35\n",
            "21/21 [==============================] - 0s 5ms/step - loss: 0.3040 - accuracy: 0.8621 - val_loss: 0.4104 - val_accuracy: 0.8500\n",
            "Epoch 26/35\n",
            "21/21 [==============================] - 0s 4ms/step - loss: 0.3224 - accuracy: 0.8916 - val_loss: 0.4102 - val_accuracy: 0.8600\n",
            "Epoch 27/35\n",
            "21/21 [==============================] - 0s 4ms/step - loss: 0.2944 - accuracy: 0.8818 - val_loss: 0.4100 - val_accuracy: 0.8600\n",
            "Epoch 28/35\n",
            "21/21 [==============================] - 0s 4ms/step - loss: 0.3085 - accuracy: 0.8966 - val_loss: 0.4116 - val_accuracy: 0.8600\n",
            "Epoch 29/35\n",
            "21/21 [==============================] - 0s 5ms/step - loss: 0.2745 - accuracy: 0.8916 - val_loss: 0.4128 - val_accuracy: 0.8500\n",
            "Epoch 30/35\n",
            "21/21 [==============================] - 0s 4ms/step - loss: 0.3237 - accuracy: 0.8768 - val_loss: 0.4106 - val_accuracy: 0.8500\n",
            "Epoch 31/35\n",
            "21/21 [==============================] - 0s 4ms/step - loss: 0.3114 - accuracy: 0.8818 - val_loss: 0.4099 - val_accuracy: 0.8600\n",
            "Epoch 32/35\n",
            "21/21 [==============================] - 0s 4ms/step - loss: 0.3087 - accuracy: 0.8768 - val_loss: 0.4136 - val_accuracy: 0.8500\n",
            "Epoch 33/35\n",
            "21/21 [==============================] - 0s 4ms/step - loss: 0.3174 - accuracy: 0.8818 - val_loss: 0.4101 - val_accuracy: 0.8600\n",
            "Epoch 34/35\n",
            "21/21 [==============================] - 0s 5ms/step - loss: 0.3326 - accuracy: 0.8818 - val_loss: 0.4098 - val_accuracy: 0.8600\n",
            "Epoch 35/35\n",
            "21/21 [==============================] - 0s 4ms/step - loss: 0.3141 - accuracy: 0.8916 - val_loss: 0.4137 - val_accuracy: 0.8600\n"
          ],
          "name": "stdout"
        }
      ]
    },
    {
      "cell_type": "code",
      "metadata": {
        "id": "0MNC5DfZn1yG",
        "colab_type": "code",
        "colab": {
          "base_uri": "https://localhost:8080/",
          "height": 204
        },
        "outputId": "2cc71d6d-a50a-49ba-c1d6-705bac67e923"
      },
      "source": [
        "from sklearn.metrics import classification_report, accuracy_score\n",
        "import numpy as np\n",
        "categorical_pred = np.argmax(model.predict(X_test), axis=1)\n",
        "\n",
        "print('Results for Categorical Model')\n",
        "print(accuracy_score(y_test, categorical_pred))\n",
        "print(classification_report(y_test, categorical_pred))"
      ],
      "execution_count": null,
      "outputs": [
        {
          "output_type": "stream",
          "text": [
            "Results for Categorical Model\n",
            "0.86\n",
            "              precision    recall  f1-score   support\n",
            "\n",
            "           0       0.85      0.80      0.83        41\n",
            "           1       0.87      0.90      0.88        59\n",
            "\n",
            "    accuracy                           0.86       100\n",
            "   macro avg       0.86      0.85      0.85       100\n",
            "weighted avg       0.86      0.86      0.86       100\n",
            "\n"
          ],
          "name": "stdout"
        }
      ]
    },
    {
      "cell_type": "code",
      "metadata": {
        "id": "4HDQi8xan7oC",
        "colab_type": "code",
        "colab": {}
      },
      "source": [
        "model.save(\"86_acc.h5\")"
      ],
      "execution_count": null,
      "outputs": []
    },
    {
      "cell_type": "code",
      "metadata": {
        "id": "_1gKYzhN_cH6",
        "colab_type": "code",
        "colab": {}
      },
      "source": [
        ""
      ],
      "execution_count": null,
      "outputs": []
    }
  ]
}